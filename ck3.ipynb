{
 "cells": [
  {
   "cell_type": "code",
   "execution_count": 4,
   "id": "bcb3cc91",
   "metadata": {},
   "outputs": [
    {
     "name": "stdout",
     "output_type": "stream",
     "text": [
      "35\n"
     ]
    }
   ],
   "source": [
    "#Question 1\n",
    "#Write a Python function to find the largest (max) of three numbers.\n",
    "#For example, the max of these three numbers (20, 35, 19) is 35.\n",
    "\n",
    "def maximum (a,b,c):\n",
    "    list = [a,b,c]\n",
    "    return max (list)\n",
    "print (maximum(20,35,19))\n"
   ]
  },
  {
   "cell_type": "code",
   "execution_count": 5,
   "id": "095195e5",
   "metadata": {
    "scrolled": true
   },
   "outputs": [
    {
     "name": "stdout",
     "output_type": "stream",
     "text": [
      "(50, 30)\n"
     ]
    }
   ],
   "source": [
    "#Question 2\n",
    "#Write a function calculation() so it can accept two variables and calculate the addition and subtraction of them. It must return both addition and subtraction in a single return call.\n",
    "#For example:\n",
    "#calculation(40, 10) should produce 50, 30\n",
    "\n",
    "def calculation(a,b):\n",
    "    addition = a +b\n",
    "    subtraction = a- b\n",
    "    return addition, subtraction\n",
    "res = calculation (40,10)\n",
    "print (res)"
   ]
  },
  {
   "cell_type": "code",
   "execution_count": 17,
   "id": "7a60ff55",
   "metadata": {},
   "outputs": [
    {
     "name": "stdout",
     "output_type": "stream",
     "text": [
      "15\n",
      "120\n"
     ]
    }
   ],
   "source": [
    "#Write a function that sums the elements of a list of integers.\n",
    "#Write a function that multiplies the elements of an integer list.\n",
    "#Use the two functions to sum the elements whose position is an even number (0,2,4…) and multiply the rest.\n",
    "\n",
    "list1=[ 1,2,3,4,5]\n",
    "def sumsOflist(list, length):\n",
    "    if (length == 0):\n",
    "        return 0\n",
    "    else:\n",
    "        return list [length -1] + sumsOflist(list, length-1)\n",
    "total = sumsOflist(list1,len(list1))\n",
    "print (total)\n",
    "\n",
    "list1=[ 1,2,3,4,5]\n",
    "def sumsOflist(list, length):\n",
    "    if (length == 1):\n",
    "        return 1\n",
    "    else:\n",
    "        return list [length -1] * sumsOflist(list, length-1)\n",
    "total = sumsOflist(list1,len(list1))\n",
    "print (total)"
   ]
  },
  {
   "cell_type": "code",
   "execution_count": 37,
   "id": "6266f81b",
   "metadata": {},
   "outputs": [
    {
     "name": "stdout",
     "output_type": "stream",
     "text": [
      "Enter a string: Hello all\n",
      "The sorted words are:\n",
      "all-hello\n",
      "all-hello\n"
     ]
    }
   ],
   "source": [
    "#Write a Python program that accepts a hyphen-separated sequence of words as input and prints the words in a \n",
    "#hyphen-separated sequence after sorting them alphabetically.\n",
    "#Sample items: green-red-yellow-black-white\n",
    "#Expected result: black-green-red-white-yellow\n",
    "#Hint: There's a split function to separate your input string into words and a sort function to sort.\n",
    "\n",
    "my_str = input(\"Enter a string: \") \n",
    "words = [word.lower() for word in my_str.split()]\n",
    "words.sort() \n",
    "print(\"The sorted words are:\") \n",
    "for word in words: \n",
    "    print('-'.join(words))"
   ]
  },
  {
   "cell_type": "code",
   "execution_count": 39,
   "id": "9045ade9",
   "metadata": {},
   "outputs": [],
   "source": [
    "#Question 5 (Bonus)\n",
    "#Write a function that calculates and prints the value according to the given formula: \n",
    "#Q = square root of [(2 * C * D)/H]. Following are the fixed values of C and H: C is 50, and H is 30. \n",
    "#D is the variable whose values should be input to your program in a comma-separated sequence. \n",
    "#Example: Let us assume the following comma-separated input sequence is given to the function: 100,150,180. \n",
    "#Expected result: 18,22,24 \n",
    "#Hints: If the output received is in decimal form, it should be rounded off to its nearest value. \n",
    "#For example, if the output received is 26.0, it should be printed as 26. In the case of input \n",
    "#data being supplied to the question, it should be assumed to be a console input. \n"
   ]
  },
  {
   "cell_type": "code",
   "execution_count": null,
   "id": "93da5146",
   "metadata": {},
   "outputs": [],
   "source": []
  }
 ],
 "metadata": {
  "kernelspec": {
   "display_name": "Python 3 (ipykernel)",
   "language": "python",
   "name": "python3"
  },
  "language_info": {
   "codemirror_mode": {
    "name": "ipython",
    "version": 3
   },
   "file_extension": ".py",
   "mimetype": "text/x-python",
   "name": "python",
   "nbconvert_exporter": "python",
   "pygments_lexer": "ipython3",
   "version": "3.9.12"
  }
 },
 "nbformat": 4,
 "nbformat_minor": 5
}
