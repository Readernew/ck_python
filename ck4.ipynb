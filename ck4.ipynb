{
 "cells": [
  {
   "cell_type": "code",
   "execution_count": 7,
   "id": "6f44f9aa",
   "metadata": {},
   "outputs": [
    {
     "name": "stdout",
     "output_type": "stream",
     "text": [
      "(1, 2, 3)\n"
     ]
    }
   ],
   "source": [
    "#Write a Python class named Point3D defined by x, y, and z. Define a method that returns (x, y ,z). \n",
    "#This tells Python to represent this object in the following format: (x, y, z). \n",
    "#Then create a variable named my_point containing a new instance of Point3D with x=1, y=2, and z=3 and print it.\n",
    "class Point3D():\n",
    "    def __init__(self,x,y,z):\n",
    "        self.x = x\n",
    "        self.y = y\n",
    "        self.z = z\n",
    "    def display(self):\n",
    "        return self.x,self.y,self.z\n",
    "my_point = Point3D(1,2,3)\n",
    "print (my_point.display())"
   ]
  },
  {
   "cell_type": "code",
   "execution_count": 16,
   "id": "ee215f5d",
   "metadata": {},
   "outputs": [
    {
     "name": "stdout",
     "output_type": "stream",
     "text": [
      "12\n",
      "14\n"
     ]
    }
   ],
   "source": [
    "#Write a Python class named Rectangle constructed by a length and width. \n",
    "#Define two methods, area and perimeter, which will compute the area and the perimeter of the rectangle. \n",
    "#Then create a variable named my_rectangle containing a new instance of Rectangle with \n",
    "#width=3 and length = 4 and compute both area and perimeter ( the area is expected to be 3*4=12 and perimeter 2*(3+4)=14).\n",
    "class Rectangle():\n",
    "    def __init__(self,l,w):\n",
    "        self.length = l\n",
    "        self.width = w\n",
    "    def rectangle_area(self):\n",
    "        return self.length*self.width\n",
    "    def rectangle_perimeter(self):\n",
    "        return 2*(self.length+self.width)\n",
    "my_rectangle= Rectangle (3,4)\n",
    "print (my_rectangle.rectangle_area())\n",
    "print (my_rectangle.rectangle_perimeter())\n",
    "\n"
   ]
  },
  {
   "cell_type": "code",
   "execution_count": 30,
   "id": "1e1cd79d",
   "metadata": {
    "scrolled": true
   },
   "outputs": [
    {
     "name": "stdout",
     "output_type": "stream",
     "text": [
      "28.26\n",
      "18.84\n",
      "True\n"
     ]
    }
   ],
   "source": [
    "#Write a Python  class named Circle constructed by its center O and radius r. \n",
    "#Define two methods, area and perimeter, which will compute the area and the perimeter of the circle,\n",
    "#and is Inside() method which allows you to test whether a point A(x, y) belongs to the circle C(O, r) or not.\n",
    "import math\n",
    "class Circle():\n",
    "    def __init__(self,r,ox=0,oy=0):\n",
    "        self.radius = r\n",
    "        self.ox = ox\n",
    "        self.oy = oy\n",
    "        \n",
    "    def area (self):\n",
    "        return self.radius**2*3.14\n",
    "    def perimeter (self):\n",
    "        return 2*self.radius*3.14\n",
    "    def isInside(self,ax,ay):\n",
    "        dis = math.sqrt((ax-self.ox)^2 + (ay-self.oy)^2)\n",
    "        if dis>self.radius:\n",
    "            return False\n",
    "        else:\n",
    "            return True\n",
    "NewCircle = Circle(3) \n",
    "print (NewCircle.area())\n",
    "print (NewCircle.perimeter())\n",
    "print(NewCircle.isInside(2,1))\n",
    "    "
   ]
  },
  {
   "cell_type": "code",
   "execution_count": 31,
   "id": "9ae7d46f",
   "metadata": {},
   "outputs": [
    {
     "name": "stdout",
     "output_type": "stream",
     "text": [
      "Hello !! Welcome to your deposit and withdraw machine\n",
      "Enter amout to be deposited: 7000\n",
      "Amount Deposited: 7000.0\n",
      "Enter amount to be withdrawn: 3000\n",
      "You Withdrew: 3000.0\n",
      "Net Available balance= 4000.0\n"
     ]
    }
   ],
   "source": [
    "#Suppose we want to model a bank account with support for deposit and withdraw operations.\n",
    "#Let’s create a Python class named Bank defined by its balance. \n",
    "#Define two methods, deposit and withdraw, to compute the new amount of each operation.\n",
    "\n",
    "class Bank_Account():\n",
    "    def __init__(self):\n",
    "        self.balance=0\n",
    "        print(\"Hello !! Welcome to your deposit and withdraw machine\")\n",
    "    def deposit(self):\n",
    "        amount = float(input(\"Enter amout to be deposited: \"))\n",
    "        self.balance +=amount\n",
    "        print (\"Amount Deposited:\", amount)\n",
    "    def withdraw(self):\n",
    "        amount = float(input(\"Enter amount to be withdrawn: \"))\n",
    "        if self.balance>=amount:\n",
    "            self.balance-=amount\n",
    "            print(\"You Withdrew:\", amount)\n",
    "        else:\n",
    "            print (\"Insufficient balance: \")\n",
    "    def display (self):\n",
    "        print (\"Net Available balance=\", self.balance)\n",
    "s = Bank_Account()\n",
    "s.deposit()\n",
    "s.withdraw()\n",
    "s.display()"
   ]
  },
  {
   "cell_type": "code",
   "execution_count": null,
   "id": "899d1b94",
   "metadata": {},
   "outputs": [],
   "source": []
  }
 ],
 "metadata": {
  "kernelspec": {
   "display_name": "Python 3 (ipykernel)",
   "language": "python",
   "name": "python3"
  },
  "language_info": {
   "codemirror_mode": {
    "name": "ipython",
    "version": 3
   },
   "file_extension": ".py",
   "mimetype": "text/x-python",
   "name": "python",
   "nbconvert_exporter": "python",
   "pygments_lexer": "ipython3",
   "version": "3.9.12"
  }
 },
 "nbformat": 4,
 "nbformat_minor": 5
}
