{
 "cells": [
  {
   "cell_type": "code",
   "execution_count": 7,
   "id": "b6ddea75",
   "metadata": {},
   "outputs": [
    {
     "name": "stdout",
     "output_type": "stream",
     "text": [
      "36\n"
     ]
    }
   ],
   "source": [
    "'''Question 1 \n",
    "Write a Python program that multiplies all the items in a list.\n",
    "Sample list= [2, 3, 6]\n",
    "Result = 36'''\n",
    "def multiplication (list):\n",
    "    total = 1\n",
    "    for x in list :\n",
    "        total = total * x\n",
    "    return total\n",
    "print(multiplication([2,3,6]))\n"
   ]
  },
  {
   "cell_type": "markdown",
   "id": "346da486",
   "metadata": {},
   "source": []
  },
  {
   "cell_type": "code",
   "execution_count": 10,
   "id": "dcbe4993",
   "metadata": {},
   "outputs": [
    {
     "name": "stdout",
     "output_type": "stream",
     "text": [
      "[(2, 1), (1, 2), (2, 3), (4, 4), (2, 5)]\n"
     ]
    }
   ],
   "source": [
    "\"\"\"Question 2\n",
    "Write a Python program to get a list, sorted in increasing order by the last element in each tuple, \n",
    "from a given list of non-empty tuples.\n",
    "Sample List : [(2, 5), (1, 2), (4, 4), (2, 3), (2, 1)]\n",
    "Expected result : [(2, 1), (1, 2), (2, 3), (4, 4), (2, 5)]\n",
    "Hint: You can use the sort function.\"\"\"\n",
    "\n",
    "def last (n): \n",
    "    return n[-1]\n",
    "nums = [(2, 5), (1, 2), (4, 4), (2, 3), (2, 1)]\n",
    "def sortlist (tuples):\n",
    "    return sorted (tuples, key= last )\n",
    "print (sortlist(nums))"
   ]
  },
  {
   "cell_type": "code",
   "execution_count": 1,
   "id": "d6d6bc8d",
   "metadata": {},
   "outputs": [
    {
     "name": "stdout",
     "output_type": "stream",
     "text": [
      "a\n",
      "b\n",
      "{'a': 400, 'b': 400, 'c': 300, 'd': 400}\n"
     ]
    }
   ],
   "source": [
    "\"\"\"Question 3 \n",
    "Write a Python program that combines two dictionaries by adding values for common keys.\n",
    "d1 = {'a': 100, 'b': 200, 'c':300}\n",
    "d2 = {'a': 300, 'b': 200, 'd':400}\n",
    "Expected result: {'a': 400, 'b': 400, 'd': 400, 'c': 300}\"\"\"\n",
    "\n",
    "d1 = {'a': 100, 'b': 200, 'c':300}\n",
    "d ={}\n",
    "d2 = {'a': 300, 'b': 200, 'd':400}\n",
    "for key in d1.keys():\n",
    "    if key in d2.keys():\n",
    "        print(key)\n",
    "        d[key] = d1[key]+d2[key]\n",
    "    else:\n",
    "        d[key] = d1[key]\n",
    "\n",
    "for key in d2.keys():\n",
    "    if key not in d1.keys():\n",
    "        d[key] = d2[key]\n",
    "print(d)\n"
   ]
  },
  {
   "cell_type": "code",
   "execution_count": 2,
   "id": "e8661f74",
   "metadata": {},
   "outputs": [
    {
     "name": "stdout",
     "output_type": "stream",
     "text": [
      "{1: 1, 2: 4, 3: 9, 4: 16, 5: 25, 6: 36, 7: 49, 8: 64}\n"
     ]
    }
   ],
   "source": [
    "'''Avec un nombre entier n donné, écrivez un programme pour générer un dictionnaire\n",
    "qui contient (i, i*i) de sorte qu'il soit un nombre entier entre 1 et n (les deux inclus).\n",
    " Ensuite, le programme doit imprimer le dictionnaire.\n",
    " Supposons que l'entrée suivante soit fournie au programme :\n",
    " 8. Ensuite, la sortie doit être :\n",
    " {1 : 1, 2 : 4, 3 : 9, 4 : 16, 5 : 25, 6 : 36, 7 : 49, 8 : 64}'''\n",
    "#n = int(input(\"set a number: \"))\n",
    "#squares = {i: i*i for i in range (1,n+1)}\n",
    "#print(squares)\n",
    "d = {}\n",
    "for i in range (1,9):\n",
    "    d[i] = i*i\n",
    "print(d)"
   ]
  },
  {
   "cell_type": "code",
   "execution_count": 3,
   "id": "4119e006",
   "metadata": {},
   "outputs": [
    {
     "name": "stdout",
     "output_type": "stream",
     "text": [
      "[('item3', '24.5'), ('item2', '15.10'), ('item1', '12.20')]\n"
     ]
    }
   ],
   "source": [
    "'''Question 5\n",
    "\n",
    "Write a program to sort a tuple by its float element.\n",
    "\n",
    "For example: list= [('item1', '12.20'), ('item2', '15.10'), ('item3', '24.5')]\n",
    "\n",
    "Expected result: [('item3', '24.5'), ('item2', '15.10'), ('item1', '12.20')]'''\n",
    "\n",
    "list= [('item1', '12.20'), ('item2', '15.10'), ('item3', '24.5')]\n",
    "def so (x):\n",
    "    return float(x[1])\n",
    "list.sort (key = so, reverse=True)\n",
    "print(list)"
   ]
  },
  {
   "cell_type": "code",
   "execution_count": null,
   "id": "826cea5b",
   "metadata": {},
   "outputs": [],
   "source": []
  }
 ],
 "metadata": {
  "kernelspec": {
   "display_name": "Python 3 (ipykernel)",
   "language": "python",
   "name": "python3"
  },
  "language_info": {
   "codemirror_mode": {
    "name": "ipython",
    "version": 3
   },
   "file_extension": ".py",
   "mimetype": "text/x-python",
   "name": "python",
   "nbconvert_exporter": "python",
   "pygments_lexer": "ipython3",
   "version": "3.9.12"
  }
 },
 "nbformat": 4,
 "nbformat_minor": 5
}
